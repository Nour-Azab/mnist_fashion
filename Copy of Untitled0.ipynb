{
 "cells": [
  {
   "cell_type": "code",
   "execution_count": 85,
   "metadata": {
    "executionInfo": {
     "elapsed": 63,
     "status": "ok",
     "timestamp": 1761320691667,
     "user": {
      "displayName": "Nour Azab",
      "userId": "02137526563478263018"
     },
     "user_tz": 420
    },
    "id": "ApT7xRN7po_m"
   },
   "outputs": [],
   "source": [
    "import numpy as np\n",
    "import pandas as pd\n",
    "import matplotlib.pyplot as plt\n",
    "import seaborn as sns\n",
    "from sklearn.metrics import accuracy_score, confusion_matrix, classification_report"
   ]
  },
  {
   "cell_type": "code",
   "execution_count": 86,
   "metadata": {
    "executionInfo": {
     "elapsed": 313,
     "status": "ok",
     "timestamp": 1761320691978,
     "user": {
      "displayName": "Nour Azab",
      "userId": "02137526563478263018"
     },
     "user_tz": 420
    },
    "id": "LxCoiCKKnq6P"
   },
   "outputs": [],
   "source": [
    "import tensorflow as tf\n",
    "(train_images, train_labels), (test_images, test_labels) = tf.keras.datasets.fashion_mnist.load_data()\n"
   ]
  },
  {
   "cell_type": "code",
   "execution_count": 87,
   "metadata": {
    "colab": {
     "base_uri": "https://localhost:8080/"
    },
    "executionInfo": {
     "elapsed": 18,
     "status": "ok",
     "timestamp": 1761320691979,
     "user": {
      "displayName": "Nour Azab",
      "userId": "02137526563478263018"
     },
     "user_tz": 420
    },
    "id": "cQT4Hf9VobR2",
    "outputId": "7d4f5bcf-f40a-4612-e9f8-f83c14fb5700"
   },
   "outputs": [
    {
     "name": "stdout",
     "output_type": "stream",
     "text": [
      "(60000, 28, 28)\n",
      "(60000,)\n",
      "(10000, 28, 28)\n",
      "(10000,)\n"
     ]
    }
   ],
   "source": [
    "print(train_images.shape)\n",
    "print(train_labels.shape)\n",
    "print(test_images.shape)\n",
    "print(test_labels.shape)"
   ]
  },
  {
   "cell_type": "code",
   "execution_count": 88,
   "metadata": {
    "executionInfo": {
     "elapsed": 45,
     "status": "ok",
     "timestamp": 1761320692021,
     "user": {
      "displayName": "Nour Azab",
      "userId": "02137526563478263018"
     },
     "user_tz": 420
    },
    "id": "jNrCM0211OyJ"
   },
   "outputs": [],
   "source": [
    "X_train = train_images.astype('float32')/255.0\n",
    "X_test = test_images.astype('float32')/255.0"
   ]
  },
  {
   "cell_type": "code",
   "execution_count": 89,
   "metadata": {
    "colab": {
     "base_uri": "https://localhost:8080/"
    },
    "executionInfo": {
     "elapsed": 7,
     "status": "ok",
     "timestamp": 1761320692030,
     "user": {
      "displayName": "Nour Azab",
      "userId": "02137526563478263018"
     },
     "user_tz": 420
    },
    "id": "_eNvaS_Pqhhs",
    "outputId": "04081650-4bcd-4f10-efd5-7a9e755202b4"
   },
   "outputs": [
    {
     "data": {
      "text/plain": [
       "(array([0, 1, 2, 3, 4, 5, 6, 7, 8, 9], dtype=uint8),\n",
       " array([6000, 6000, 6000, 6000, 6000, 6000, 6000, 6000, 6000, 6000],\n",
       "       dtype=int64))"
      ]
     },
     "execution_count": 89,
     "metadata": {},
     "output_type": "execute_result"
    }
   ],
   "source": [
    "np.unique(train_labels,return_counts=True)"
   ]
  },
  {
   "cell_type": "code",
   "execution_count": 90,
   "metadata": {
    "executionInfo": {
     "elapsed": 65,
     "status": "ok",
     "timestamp": 1761320692108,
     "user": {
      "displayName": "Nour Azab",
      "userId": "02137526563478263018"
     },
     "user_tz": 420
    },
    "id": "CFCHZF_TptJb"
   },
   "outputs": [],
   "source": [
    "from turtle import mode\n",
    "from tensorflow.keras import layers, models\n",
    "from tensorflow.keras.callbacks import EarlyStopping\n",
    "\n",
    "model = models.Sequential()\n",
    "model.add(layers.Conv2D(32,(3,3),input_shape=(28, 28, 1),activation='relu',padding='same'))\n",
    "model.add(layers.MaxPooling2D((2,2)))\n",
    "model.add(layers.Conv2D(64,(3,3),activation='relu',padding='same'))\n",
    "model.add(layers.MaxPooling2D((2,2)))\n",
    "model.add(layers.Conv2D(64,(3,3),activation='relu'))\n",
    "model.add(layers.Flatten())\n",
    "model.add(layers.Dropout(rate=0.5))\n",
    "model.add(layers.Dense(64,activation='relu'))\n",
    "#model.add(layers.Dropout(rate=0.3))\n",
    "model.add(layers.Dense(32,activation='relu'))\n",
    "model.add(layers.Dense(10,activation='softmax'))\n"
   ]
  },
  {
   "cell_type": "code",
   "execution_count": 91,
   "metadata": {
    "colab": {
     "base_uri": "https://localhost:8080/",
     "height": 442
    },
    "executionInfo": {
     "elapsed": 65,
     "status": "ok",
     "timestamp": 1761320692178,
     "user": {
      "displayName": "Nour Azab",
      "userId": "02137526563478263018"
     },
     "user_tz": 420
    },
    "id": "F2oXa-AAuNXJ",
    "outputId": "cd490082-34f1-434e-c18e-d5875b2b89fd"
   },
   "outputs": [
    {
     "name": "stdout",
     "output_type": "stream",
     "text": [
      "Model: \"sequential_7\"\n",
      "_________________________________________________________________\n",
      " Layer (type)                Output Shape              Param #   \n",
      "=================================================================\n",
      " conv2d_21 (Conv2D)          (None, 28, 28, 32)        320       \n",
      "                                                                 \n",
      " max_pooling2d_14 (MaxPooli  (None, 14, 14, 32)        0         \n",
      " ng2D)                                                           \n",
      "                                                                 \n",
      " conv2d_22 (Conv2D)          (None, 14, 14, 64)        18496     \n",
      "                                                                 \n",
      " max_pooling2d_15 (MaxPooli  (None, 7, 7, 64)          0         \n",
      " ng2D)                                                           \n",
      "                                                                 \n",
      " conv2d_23 (Conv2D)          (None, 5, 5, 64)          36928     \n",
      "                                                                 \n",
      " flatten_6 (Flatten)         (None, 1600)              0         \n",
      "                                                                 \n",
      " dropout_5 (Dropout)         (None, 1600)              0         \n",
      "                                                                 \n",
      " dense_18 (Dense)            (None, 64)                102464    \n",
      "                                                                 \n",
      " dense_19 (Dense)            (None, 32)                2080      \n",
      "                                                                 \n",
      " dense_20 (Dense)            (None, 10)                330       \n",
      "                                                                 \n",
      "=================================================================\n",
      "Total params: 160618 (627.41 KB)\n",
      "Trainable params: 160618 (627.41 KB)\n",
      "Non-trainable params: 0 (0.00 Byte)\n",
      "_________________________________________________________________\n"
     ]
    }
   ],
   "source": [
    "model.build()\n",
    "model.summary()"
   ]
  },
  {
   "cell_type": "code",
   "execution_count": 92,
   "metadata": {
    "executionInfo": {
     "elapsed": 7,
     "status": "ok",
     "timestamp": 1761320692179,
     "user": {
      "displayName": "Nour Azab",
      "userId": "02137526563478263018"
     },
     "user_tz": 420
    },
    "id": "ktZANbEd00tx"
   },
   "outputs": [],
   "source": [
    "epochs = 20\n"
   ]
  },
  {
   "cell_type": "code",
   "execution_count": 93,
   "metadata": {
    "colab": {
     "base_uri": "https://localhost:8080/"
    },
    "executionInfo": {
     "elapsed": 354863,
     "status": "ok",
     "timestamp": 1761321047038,
     "user": {
      "displayName": "Nour Azab",
      "userId": "02137526563478263018"
     },
     "user_tz": 420
    },
    "id": "Qec-Ozdfwcnm",
    "outputId": "f6e1c59d-b6f6-453b-a5cb-d38af9641958"
   },
   "outputs": [
    {
     "name": "stdout",
     "output_type": "stream",
     "text": [
      "Epoch 1/20\n",
      "1875/1875 [==============================] - 16s 8ms/step - loss: 0.5001 - accuracy: 0.8168 - val_loss: 0.3347 - val_accuracy: 0.8772\n",
      "Epoch 2/20\n",
      "1875/1875 [==============================] - 14s 8ms/step - loss: 0.3222 - accuracy: 0.8825 - val_loss: 0.3020 - val_accuracy: 0.8848\n",
      "Epoch 3/20\n",
      "1875/1875 [==============================] - 14s 8ms/step - loss: 0.2809 - accuracy: 0.8956 - val_loss: 0.2636 - val_accuracy: 0.9039\n",
      "Epoch 4/20\n",
      "1875/1875 [==============================] - 16s 8ms/step - loss: 0.2550 - accuracy: 0.9058 - val_loss: 0.2533 - val_accuracy: 0.9064\n",
      "Epoch 5/20\n",
      "1875/1875 [==============================] - 16s 8ms/step - loss: 0.2391 - accuracy: 0.9120 - val_loss: 0.2365 - val_accuracy: 0.9128\n",
      "Epoch 6/20\n",
      "1875/1875 [==============================] - 15s 8ms/step - loss: 0.2216 - accuracy: 0.9175 - val_loss: 0.2372 - val_accuracy: 0.9103\n",
      "Epoch 7/20\n",
      "1875/1875 [==============================] - 15s 8ms/step - loss: 0.2116 - accuracy: 0.9213 - val_loss: 0.2320 - val_accuracy: 0.9191\n",
      "Epoch 8/20\n",
      "1875/1875 [==============================] - 15s 8ms/step - loss: 0.2010 - accuracy: 0.9253 - val_loss: 0.2377 - val_accuracy: 0.9155\n",
      "Epoch 9/20\n",
      "1875/1875 [==============================] - 16s 8ms/step - loss: 0.1946 - accuracy: 0.9264 - val_loss: 0.2164 - val_accuracy: 0.9217\n",
      "Epoch 10/20\n",
      "1875/1875 [==============================] - 15s 8ms/step - loss: 0.1881 - accuracy: 0.9296 - val_loss: 0.2239 - val_accuracy: 0.9211\n",
      "Epoch 11/20\n",
      "1875/1875 [==============================] - 15s 8ms/step - loss: 0.1769 - accuracy: 0.9334 - val_loss: 0.2243 - val_accuracy: 0.9213\n",
      "Epoch 12/20\n",
      "1875/1875 [==============================] - 15s 8ms/step - loss: 0.1724 - accuracy: 0.9356 - val_loss: 0.2124 - val_accuracy: 0.9231\n",
      "Epoch 13/20\n",
      "1875/1875 [==============================] - 15s 8ms/step - loss: 0.1679 - accuracy: 0.9363 - val_loss: 0.2146 - val_accuracy: 0.9216\n",
      "Epoch 14/20\n",
      "1875/1875 [==============================] - 15s 8ms/step - loss: 0.1618 - accuracy: 0.9388 - val_loss: 0.2078 - val_accuracy: 0.9247\n",
      "Epoch 15/20\n",
      "1875/1875 [==============================] - 15s 8ms/step - loss: 0.1592 - accuracy: 0.9402 - val_loss: 0.2134 - val_accuracy: 0.9250\n",
      "Epoch 16/20\n",
      "1875/1875 [==============================] - 16s 8ms/step - loss: 0.1515 - accuracy: 0.9438 - val_loss: 0.2157 - val_accuracy: 0.9241\n",
      "Epoch 17/20\n",
      "1875/1875 [==============================] - 15s 8ms/step - loss: 0.1513 - accuracy: 0.9423 - val_loss: 0.2209 - val_accuracy: 0.9262\n"
     ]
    }
   ],
   "source": [
    "model.compile(optimizer='adam',loss='sparse_categorical_crossentropy',metrics=['accuracy'])\n",
    "early_stopper = EarlyStopping(monitor='val_loss', patience=3, restore_best_weights=True)\n",
    "history = model.fit(X_train,train_labels,epochs=epochs,validation_data=(X_test,test_labels),batch_size=32,callbacks=[early_stopper])"
   ]
  },
  {
   "cell_type": "code",
   "execution_count": 94,
   "metadata": {
    "colab": {
     "base_uri": "https://localhost:8080/"
    },
    "executionInfo": {
     "elapsed": 18,
     "status": "ok",
     "timestamp": 1761321047057,
     "user": {
      "displayName": "Nour Azab",
      "userId": "02137526563478263018"
     },
     "user_tz": 420
    },
    "id": "cOE5n3zl0aXQ",
    "outputId": "4afe0f0d-3c05-4f26-b68b-e662a109540d"
   },
   "outputs": [
    {
     "data": {
      "text/plain": [
       "dict_keys(['loss', 'accuracy', 'val_loss', 'val_accuracy'])"
      ]
     },
     "execution_count": 94,
     "metadata": {},
     "output_type": "execute_result"
    }
   ],
   "source": [
    "history.history.keys()"
   ]
  },
  {
   "cell_type": "code",
   "execution_count": 95,
   "metadata": {
    "colab": {
     "base_uri": "https://localhost:8080/",
     "height": 489
    },
    "executionInfo": {
     "elapsed": 137,
     "status": "ok",
     "timestamp": 1761321047208,
     "user": {
      "displayName": "Nour Azab",
      "userId": "02137526563478263018"
     },
     "user_tz": 420
    },
    "id": "k3tEu1hXwvus",
    "outputId": "fe52fa61-f248-407e-eb89-0299359f8f12"
   },
   "outputs": [
    {
     "data": {
      "text/plain": [
       "<matplotlib.legend.Legend at 0x1a9e3bfec90>"
      ]
     },
     "execution_count": 95,
     "metadata": {},
     "output_type": "execute_result"
    },
    {
     "data": {
      "image/png": "[encoded data removed]",
      "text/plain": [
       "<Figure size 640x480 with 1 Axes>"
      ]
     },
     "metadata": {},
     "output_type": "display_data"
    }
   ],
   "source": [
    "plt.plot(history.history['accuracy'],label=\"Accuracy\")\n",
    "plt.plot(history.history['val_accuracy'],label=\"Val Accuracy\")\n",
    "plt.title('Accuracy')\n",
    "plt.xlabel('Epochs')\n",
    "plt.ylabel('Accuracy')\n",
    "plt.legend()"
   ]
  },
  {
   "cell_type": "code",
   "execution_count": 96,
   "metadata": {
    "colab": {
     "base_uri": "https://localhost:8080/",
     "height": 489
    },
    "executionInfo": {
     "elapsed": 143,
     "status": "ok",
     "timestamp": 1761321047356,
     "user": {
      "displayName": "Nour Azab",
      "userId": "02137526563478263018"
     },
     "user_tz": 420
    },
    "id": "4jX3iMUu0WQx",
    "outputId": "5217b68c-d4d1-476e-e9df-b66c4ef4aaf3"
   },
   "outputs": [
    {
     "data": {
      "text/plain": [
       "<matplotlib.legend.Legend at 0x1a9e3ae28d0>"
      ]
     },
     "execution_count": 96,
     "metadata": {},
     "output_type": "execute_result"
    },
    {
     "data": {
      "image/png": "[encoded data removed]",
      "text/plain": [
       "<Figure size 640x480 with 1 Axes>"
      ]
     },
     "metadata": {},
     "output_type": "display_data"
    }
   ],
   "source": [
    "plt.plot(history.history['loss'],label=\"Loss\")\n",
    "plt.plot(history.history['val_loss'],label=\"Val Loss\")\n",
    "plt.title('Loss')\n",
    "plt.xlabel('Epochs')\n",
    "plt.ylabel('Loss')\n",
    "plt.legend()"
   ]
  },
  {
   "cell_type": "code",
   "execution_count": 97,
   "metadata": {
    "colab": {
     "base_uri": "https://localhost:8080/"
    },
    "executionInfo": {
     "elapsed": 2592,
     "status": "ok",
     "timestamp": 1761321977233,
     "user": {
      "displayName": "Nour Azab",
      "userId": "02137526563478263018"
     },
     "user_tz": 420
    },
    "id": "S_Dnd2Lb4HwM",
    "outputId": "01760ed0-8c15-499d-8dff-1934f4d7ad22"
   },
   "outputs": [
    {
     "name": "stdout",
     "output_type": "stream",
     "text": [
      "313/313 [==============================] - 1s 2ms/step - loss: 0.2078 - accuracy: 0.9247\n",
      "Test Loss: 0.2078\n",
      "Test Accuracy: 92.47%\n"
     ]
    }
   ],
   "source": [
    "test_loss, test_accuracy = model.evaluate(X_test, test_labels)\n",
    "print(f\"Test Loss: {test_loss:.4f}\")\n",
    "print(f\"Test Accuracy: {test_accuracy * 100:.2f}%\")"
   ]
  },
  {
   "cell_type": "code",
   "execution_count": 98,
   "metadata": {},
   "outputs": [
    {
     "name": "stdout",
     "output_type": "stream",
     "text": [
      "\n",
      "--- Classification Report ---\n",
      "313/313 [==============================] - 1s 2ms/step\n",
      "              precision    recall  f1-score   support\n",
      "\n",
      "           0       0.87      0.85      0.86      1000\n",
      "           1       1.00      0.99      0.99      1000\n",
      "           2       0.89      0.89      0.89      1000\n",
      "           3       0.91      0.94      0.93      1000\n",
      "           4       0.89      0.89      0.89      1000\n",
      "           5       0.99      0.99      0.99      1000\n",
      "           6       0.77      0.76      0.77      1000\n",
      "           7       0.96      0.98      0.97      1000\n",
      "           8       0.99      0.99      0.99      1000\n",
      "           9       0.98      0.97      0.97      1000\n",
      "\n",
      "    accuracy                           0.92     10000\n",
      "   macro avg       0.92      0.92      0.92     10000\n",
      "weighted avg       0.92      0.92      0.92     10000\n",
      "\n"
     ]
    }
   ],
   "source": [
    "print(\"\\n--- Classification Report ---\")\n",
    "y_pred = model.predict(X_test)\n",
    "y_pred_classes = np.argmax(y_pred, axis=1)\n",
    "print(classification_report(test_labels, y_pred_classes))"
   ]
  }
 ],
 "metadata": {
  "colab": {
   "authorship_tag": "ABX9TyNnEdcARASzGRrDJiaSsc6G",
   "provenance": [
    {
     "file_id": "12F43j_2TAB8URAHLWdws9GYNHJAWDdjF",
     "timestamp": 1761322579201
    }
   ]
  },
  "kernelspec": {
   "display_name": "Python 3",
   "name": "python3"
  },
  "language_info": {
   "codemirror_mode": {
    "name": "ipython",
    "version": 3
   },
   "file_extension": ".py",
   "mimetype": "text/x-python",
   "name": "python",
   "nbconvert_exporter": "python",
   "pygments_lexer": "ipython3",
   "version": "3.11.9"
  }
 },
 "nbformat": 4,
 "nbformat_minor": 0
}
